{
 "metadata": {
  "name": "",
  "signature": "sha256:972c4ef9f06577a5e3d0a691b1c193a89a43c5dc9187fc7e1f20574053bfee13"
 },
 "nbformat": 3,
 "nbformat_minor": 0,
 "worksheets": [
  {
   "cells": [
    {
     "cell_type": "code",
     "collapsed": false,
     "input": [
      "from peyotl.api import APIWrapper\n",
      "import urllib2"
     ],
     "language": "python",
     "metadata": {},
     "outputs": [],
     "prompt_number": 138
    },
    {
     "cell_type": "code",
     "collapsed": false,
     "input": [
      "input_file = \"demo_fi.txt\" #input file is list of VTO ids\n",
      "file_type = \"VTO_ids\" #One of: 'VTO_ids', 'taxon_names', 'ott_ids'"
     ],
     "language": "python",
     "metadata": {},
     "outputs": [],
     "prompt_number": 139
    },
    {
     "cell_type": "code",
     "collapsed": false,
     "input": [
      "data = urllib2.urlopen(\"https://raw.githubusercontent.com/phenoscape/KB-DataFest-2017-linking-data/master/data/queryResults_phenoscape_taxonomy.csv\") # it's a file like object and works just like a file\n",
      "vtos = set()\n",
      "for lin in data: # files are iterable\n",
      "    lii = lin.split(',')\n",
      "    VTO = lii[1].split('/')[-1].strip('\"')\n",
      "    vtos.add(VTO)\n",
      "    "
     ],
     "language": "python",
     "metadata": {},
     "outputs": [],
     "prompt_number": 140
    },
    {
     "cell_type": "code",
     "collapsed": false,
     "input": [
      "mappings = open(\"alltaxa_VTO_mapping.txt\")\n",
      "map_dict = {}\n",
      "i = 0\n",
      "for lin in mappings:\n",
      "    i+=1\n",
      "    lii = lin.split(',')\n",
      "    if lii[0] in vtos:\n",
      "        map_dict[lii[0]] = int(lii[2].strip())"
     ],
     "language": "python",
     "metadata": {},
     "outputs": [],
     "prompt_number": 141
    },
    {
     "cell_type": "code",
     "collapsed": false,
     "input": [
      "len(map_dict)"
     ],
     "language": "python",
     "metadata": {},
     "outputs": [
      {
       "metadata": {},
       "output_type": "pyout",
       "prompt_number": 142,
       "text": [
        "2550"
       ]
      }
     ],
     "prompt_number": 142
    },
    {
     "cell_type": "code",
     "collapsed": false,
     "input": [
      "ncbi_mappings = open(\"vtoalltaxa.txt\")\n",
      "for lin in ncbi_mappings:\n",
      "    lii = lin.split('\\t')\n",
      "    if lii[1] in vtos and lii[-1].strip() != \"NA\":\n",
      "        map_dict[lii[1]] = int(lii[-1].strip())"
     ],
     "language": "python",
     "metadata": {},
     "outputs": [],
     "prompt_number": 143
    },
    {
     "cell_type": "code",
     "collapsed": false,
     "input": [
      "len(map_dict)"
     ],
     "language": "python",
     "metadata": {},
     "outputs": [
      {
       "metadata": {},
       "output_type": "pyout",
       "prompt_number": 144,
       "text": [
        "5179"
       ]
      }
     ],
     "prompt_number": 144
    },
    {
     "cell_type": "code",
     "collapsed": false,
     "input": [
      "len(vtos)"
     ],
     "language": "python",
     "metadata": {},
     "outputs": [
      {
       "metadata": {},
       "output_type": "pyout",
       "prompt_number": 145,
       "text": [
        "5796"
       ]
      }
     ],
     "prompt_number": 145
    },
    {
     "cell_type": "code",
     "collapsed": false,
     "input": [
      "unmapped = vtos - set(map_dict.keys())"
     ],
     "language": "python",
     "metadata": {},
     "outputs": [],
     "prompt_number": 146
    },
    {
     "cell_type": "code",
     "collapsed": false,
     "input": [
      "len(unmapped)"
     ],
     "language": "python",
     "metadata": {},
     "outputs": [
      {
       "metadata": {},
       "output_type": "pyout",
       "prompt_number": 147,
       "text": [
        "617"
       ]
      }
     ],
     "prompt_number": 147
    },
    {
     "cell_type": "code",
     "collapsed": false,
     "input": [
      "data = urllib2.urlopen(\"https://raw.githubusercontent.com/phenoscape/KB-DataFest-2017-linking-data/master/data/queryResults_phenoscape_taxonomy.csv\") # it's a file like object and works just like a file\n",
      "extended_data = open(\"phenoscape_taxonomy_ottids.csv\",\"w\")\n",
      "extended_data.write(\"matrix_taxon, vto, vto_label, ott_id\\n\")\n",
      "data.readline()\n",
      "\n",
      "ott_list = []\n",
      "for lin in data:\n",
      "    lii = lin.split(',')\n",
      "    VTO = lii[1].split('/')[-1].strip('\"')\n",
      "    ott_list.append(map_dict.get(VTO,None))\n",
      "    extended_data.write(\"{}, {}, {}, ott{}\\n\".format(lii[0],VTO, lii[2].strip(), map_dict.get(VTO,'?')))\n",
      "\n",
      "\n",
      "extended_data.close()"
     ],
     "language": "python",
     "metadata": {},
     "outputs": [],
     "prompt_number": 148
    },
    {
     "cell_type": "code",
     "collapsed": false,
     "input": [
      "wrap = APIWrapper()\n",
      "tm = wrap.treemachine"
     ],
     "language": "python",
     "metadata": {},
     "outputs": [],
     "prompt_number": 149
    },
    {
     "cell_type": "code",
     "collapsed": true,
     "input": [
      "example_ids = ott_list[:20]"
     ],
     "language": "python",
     "metadata": {},
     "outputs": [],
     "prompt_number": 150
    },
    {
     "cell_type": "code",
     "collapsed": false,
     "input": [
      "tm.get_synth_tree_pruned(ott_ids=example_ids)"
     ],
     "language": "python",
     "metadata": {},
     "outputs": [
      {
       "metadata": {},
       "output_type": "pyout",
       "prompt_number": 135,
       "text": [
        "{u'newick': u'((Mustelus_mustelus_ott208178,Scyliorhinus_retifer_ott150264),(((((Clarias_buettikoferi_ott290625,(Heterobranchus_longifilis_ott507216,Heterobranchus_bidorsalis_ott860959,Heterobranchus_isopterus_ott507217)Heterobranchus_ott1083797,Channallabes_apus_ott860973,Clarias_anguillaris_ott1083808)Clariidae_ott828985,Clarotes_laticeps_ott1083796)Siluroidei_ott5548749,Hoplosternum_littorale_ott64003)Siluriformes_ott701516,((Scleropages_formosus_ott335717,Osteoglossum_bicirrhosum_ott279997)Osteoglossidae_ott179343,(Chitala_ott812408,Notopterus_notopterus_ott904617)Notopteridae_ott816151)Osteoglossiformes_ott496754)Osteoglossocephalai_ott5506109,((Rattus_norvegicus_albus_ott182319,Cavia_porcellus_ott744000),Cynocephalus_volans_ott781510)Euarchontoglires_ott392222)Euteleostomi_ott114654)Gnathostomata_ott278114;',\n",
        " u'supporting_studies': [u'pg_2647',\n",
        "  u'pg_2812',\n",
        "  u'pg_1217',\n",
        "  u'pg_2688',\n",
        "  u'pg_2651',\n",
        "  u'ot_526',\n",
        "  u'ot_181',\n",
        "  u'ot_508',\n",
        "  u'pg_2659',\n",
        "  u'pg_1428']}"
       ]
      }
     ],
     "prompt_number": 135
    },
    {
     "cell_type": "code",
     "collapsed": false,
     "input": [],
     "language": "python",
     "metadata": {},
     "outputs": []
    }
   ],
   "metadata": {}
  }
 ]
}