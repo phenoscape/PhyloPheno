{
 "metadata": {
  "name": "",
  "signature": "sha256:8b0a836cc7e972710d14f8b6ff0c06ef30f97d33309347176a0490a869126c14"
 },
 "nbformat": 3,
 "nbformat_minor": 0,
 "worksheets": [
  {
   "cells": [
    {
     "cell_type": "code",
     "collapsed": false,
     "input": [
      "import re\n",
      "import networkx as nx\n",
      "import matplotlib.pyplot as plt\n",
      "from peyotl.api import APIWrapper\n",
      "from peyotl.sugar import phylesystem_api\n"
     ],
     "language": "python",
     "metadata": {},
     "outputs": [],
     "prompt_number": 77
    },
    {
     "cell_type": "code",
     "collapsed": false,
     "input": [
      "wrap = APIWrapper()\n",
      "tm = wrap.taxomachine\n",
      "q_sname = name.keys()[0]\n",
      "## get the uid of a single taxon"
     ],
     "language": "python",
     "metadata": {},
     "outputs": [],
     "prompt_number": 78
    },
    {
     "cell_type": "code",
     "collapsed": false,
     "input": [
      "infi = open(\"vtoalltaxa.txt\")\n",
      "ofi = open('alltaxa_VTO_mapping.txt','w')\n",
      "\n",
      "\n",
      "ofi.write(\"{},{},{}\\n\".format('VTO','taxname','ottid'))\n",
      "ofi.write(\"\")\n",
      "\n",
      "#VTO_mapping={}\n",
      "taxname2VTO={}\n",
      "VTO2taxname={}\n",
      "\n",
      "for lin in infi:\n",
      "    lii=lin.split(\"\\t\")\n",
      "    taxname2VTO[lii[0]]=lii[1]\n",
      "    VTO2taxname[lii[1]]=lii[0]\n",
      "    if lii[4]!='NA':\n",
      "        VTO_mapping[lii[1]]={'taxonname':lii[0],'ottid':lii[4]}\n",
      "        ofi.write(\"{},{},{}\\n\".format(lii[1],lii[0],ott_id))\n",
      "    "
     ],
     "language": "python",
     "metadata": {},
     "outputs": [],
     "prompt_number": 104
    },
    {
     "cell_type": "code",
     "collapsed": false,
     "input": [
      "unmatched = {}\n",
      "multimatch = {}\n",
      "unmofi = open('Siluriformes_VTO_unmatched.txt','w')\n",
      "for taxname in taxname2VTO.keys():\n",
      "    VTO = taxname2VTO[taxname]\n",
      "    if VTO not in VTO_mapping:\n",
      "#        print taxname\n",
      "        tnrs = tm.TNRS(taxname, \"Vertebrates\")\n",
      "        if len(tnrs[u'results']) == 0:\n",
      "            unmatched[VTO] = taxname\n",
      "            unmofi.write(\"{},{}\\n\".format(VTO, taxname))\n",
      "        if len(tnrs[u'results']) == 1:\n",
      "            ott_id = tnrs[u'results'][0][u'matches'][0][u'taxon'][u'ott_id']\n",
      "            VTO_mapping[VTO] = {'taxonname':taxname,'ottid':ott_id}\n",
      "            ofi.write(\"{},{},{}\\n\".format(VTO,taxname,ott_id))\n",
      "        if len(tnrs[u'results']) > 1:\n",
      "            multimatch[VTO] = tnrs"
     ],
     "language": "python",
     "metadata": {},
     "outputs": [],
     "prompt_number": 117
    },
    {
     "cell_type": "code",
     "collapsed": false,
     "input": [
      "len(VTO_mapping)\n",
      "import json\n",
      "ofi = open(\"siluriformes_map.json\",\"w\")\n",
      "json.dump(VTO_mapping, ofi)\n",
      "ofi.close()"
     ],
     "language": "python",
     "metadata": {},
     "outputs": [],
     "prompt_number": 129
    },
    {
     "cell_type": "code",
     "collapsed": false,
     "input": [
      "len(unmatched)"
     ],
     "language": "python",
     "metadata": {},
     "outputs": [
      {
       "metadata": {},
       "output_type": "pyout",
       "prompt_number": 125,
       "text": [
        "374"
       ]
      }
     ],
     "prompt_number": 125
    },
    {
     "cell_type": "code",
     "collapsed": false,
     "input": [
      "new_matches"
     ],
     "language": "python",
     "metadata": {},
     "outputs": [
      {
       "metadata": {},
       "output_type": "pyout",
       "prompt_number": 141,
       "text": [
        "['VTO_0061834',\n",
        " 'VTO_0059483',\n",
        " 'VTO_0061787',\n",
        " 'VTO_0059684',\n",
        " 'VTO_0061372',\n",
        " 'VTO_0059274',\n",
        " 'VTO_0060350',\n",
        " 'VTO_0061273',\n",
        " 'VTO_0061761',\n",
        " 'VTO_0060592',\n",
        " 'VTO_0061758',\n",
        " 'VTO_0061753',\n",
        " 'VTO_0059530',\n",
        " 'VTO_0061944',\n",
        " 'VTO_0061823',\n",
        " 'VTO_0061438',\n",
        " 'VTO_0061434',\n",
        " 'VTO_0061431',\n",
        " 'VTO_0061765',\n",
        " 'VTO_0061764',\n",
        " 'VTO_0061769',\n",
        " 'VTO_0061790',\n",
        " 'VTO_0061796',\n",
        " 'VTO_0059923',\n",
        " 'VTO_0062015',\n",
        " 'VTO_9046537',\n",
        " 'VTO_0060299',\n",
        " 'VTO_0059745',\n",
        " 'VTO_0061738',\n",
        " 'VTO_0061518',\n",
        " 'VTO_0060906',\n",
        " 'VTO_0061839',\n",
        " 'VTO_0061838',\n",
        " 'VTO_0061038',\n",
        " 'VTO_0061138',\n",
        " 'VTO_0059701',\n",
        " 'VTO_0061814',\n",
        " 'VTO_0061810',\n",
        " 'VTO_0061774',\n",
        " 'VTO_0061771',\n",
        " 'VTO_0061772',\n",
        " 'VTO_0059550',\n",
        " 'VTO_0059679',\n",
        " 'VTO_9031900',\n",
        " 'VTO_0060330',\n",
        " 'VTO_0060029',\n",
        " 'VTO_0061337',\n",
        " 'VTO_0059730',\n",
        " 'VTO_0059549',\n",
        " 'VTO_0059311',\n",
        " 'VTO_0061342',\n",
        " 'VTO_0061802',\n",
        " 'VTO_0060414',\n",
        " 'VTO_0059767']"
       ]
      }
     ],
     "prompt_number": 141
    },
    {
     "cell_type": "code",
     "collapsed": false,
     "input": [
      "ofi = open(\"siluriformes_unmatched.json\",\"w\")\n",
      "json.dump(unmatched, ofi)\n",
      "ofi.close()"
     ],
     "language": "python",
     "metadata": {},
     "outputs": [],
     "prompt_number": 130
    },
    {
     "cell_type": "code",
     "collapsed": false,
     "input": [
      "new_matches = []\n",
      "for VTO in unmatched.keys():\n",
      "    taxname = unmatched[VTO]\n",
      "    if VTO not in VTO_mapping:\n",
      "        tnrs = tm.TNRS(taxname,\"Vertebrates\",fuzzy_matching=True)\n",
      "        if len(tnrs[u'results']) == 1:\n",
      "            ott_id = tnrs[u'results'][0][u'matches'][0][u'taxon'][u'ott_id']\n",
      "            VTO_mapping[VTO] = {'taxonname':taxname,'ottid':ott_id}\n",
      "#            ofi.write(\"{},{},{}\\n\".format(VTO,taxname,ott_id))\n",
      "            new_matches.append(VTO)\n",
      "        if len(tnrs[u'results']) > 1:\n",
      "            multimatch[VTO] = tnrs\n",
      "            new_matches.append[VTO]\n",
      "            \n",
      "for VTO in new_matches:\n",
      "    del unmatched[VTO]"
     ],
     "language": "python",
     "metadata": {},
     "outputs": [],
     "prompt_number": 132
    },
    {
     "cell_type": "code",
     "collapsed": false,
     "input": [
      "new_matches #matched only by fuzzy matching\n"
     ],
     "language": "python",
     "metadata": {},
     "outputs": [
      {
       "metadata": {},
       "output_type": "pyout",
       "prompt_number": 138,
       "text": [
        "['VTO_0061834',\n",
        " 'VTO_0059483',\n",
        " 'VTO_0061787',\n",
        " 'VTO_0059684',\n",
        " 'VTO_0061372',\n",
        " 'VTO_0059274',\n",
        " 'VTO_0060350',\n",
        " 'VTO_0061273',\n",
        " 'VTO_0061761',\n",
        " 'VTO_0060592',\n",
        " 'VTO_0061758',\n",
        " 'VTO_0061753',\n",
        " 'VTO_0059530',\n",
        " 'VTO_0061944',\n",
        " 'VTO_0061823',\n",
        " 'VTO_0061438',\n",
        " 'VTO_0061434',\n",
        " 'VTO_0061431',\n",
        " 'VTO_0061765',\n",
        " 'VTO_0061764',\n",
        " 'VTO_0061769',\n",
        " 'VTO_0061790',\n",
        " 'VTO_0061796',\n",
        " 'VTO_0059923',\n",
        " 'VTO_0062015',\n",
        " 'VTO_9046537',\n",
        " 'VTO_0060299',\n",
        " 'VTO_0059745',\n",
        " 'VTO_0061738',\n",
        " 'VTO_0061518',\n",
        " 'VTO_0060906',\n",
        " 'VTO_0061839',\n",
        " 'VTO_0061838',\n",
        " 'VTO_0061038',\n",
        " 'VTO_0061138',\n",
        " 'VTO_0059701',\n",
        " 'VTO_0061814',\n",
        " 'VTO_0061810',\n",
        " 'VTO_0061774',\n",
        " 'VTO_0061771',\n",
        " 'VTO_0061772',\n",
        " 'VTO_0059550',\n",
        " 'VTO_0059679',\n",
        " 'VTO_9031900',\n",
        " 'VTO_0060330',\n",
        " 'VTO_0060029',\n",
        " 'VTO_0061337',\n",
        " 'VTO_0059730',\n",
        " 'VTO_0059549',\n",
        " 'VTO_0059311',\n",
        " 'VTO_0061342',\n",
        " 'VTO_0061802',\n",
        " 'VTO_0060414',\n",
        " 'VTO_0059767']"
       ]
      }
     ],
     "prompt_number": 138
    },
    {
     "cell_type": "code",
     "collapsed": false,
     "input": [
      "#Edited from code from 'pasanfernando'\n",
      "## the scripts builds VTO network and gives a list of all the families in it\n",
      "# 7/14/16: the script was updated to generate a list of all taxa that are descendents of teleostei (including teleostei)\n",
      "'''\n",
      "p = open('vto.owl', 'r')\n",
      "out = open('vtoallfamilies.txt', 'wb+')\n",
      "\n",
      "G = nx.DiGraph()\n",
      "taxname2VTO =  {}\n",
      "VTO2taxname = {}\n",
      "\n",
      "# building the vto network\n",
      "for line in p:\n",
      "    # print line\n",
      "    if '<!-- http://purl.obolibrary.org/obo/' in line:\n",
      "        result = re.search('<!-- http://purl.obolibrary.org/obo/(.*)-->', line)\n",
      "        x = result.group(1)\n",
      "        x1 = x.strip()\n",
      "        # print x1\n",
      "        if G.has_node(x1) == False:\n",
      "            G.add_node(x1)\n",
      "\n",
      "    if '<rdfs:label rdf:datatype=\"http://www.w3.org/2001/XMLSchema#string\">' in line:\n",
      "        name1 = re.search('<rdfs:label rdf:datatype=\"http://www.w3.org/2001/XMLSchema#string\">(.*)</rdfs:label>', line)\n",
      "        n = name1.group(1)\n",
      "        # print n\n",
      "        taxname2VTO[n] = x1\n",
      "        VTO2taxname[x1] = n\n",
      "        \n",
      "'''"
     ],
     "language": "python",
     "metadata": {},
     "outputs": [],
     "prompt_number": 17
    },
    {
     "cell_type": "code",
     "collapsed": false,
     "input": [
      "len(unmatched)"
     ],
     "language": "python",
     "metadata": {},
     "outputs": [
      {
       "metadata": {},
       "output_type": "pyout",
       "prompt_number": 133,
       "text": [
        "320"
       ]
      }
     ],
     "prompt_number": 133
    },
    {
     "cell_type": "code",
     "collapsed": false,
     "input": [
      "len(VTO_mapping)"
     ],
     "language": "python",
     "metadata": {},
     "outputs": [
      {
       "metadata": {},
       "output_type": "pyout",
       "prompt_number": 134,
       "text": [
        "4024"
       ]
      }
     ],
     "prompt_number": 134
    },
    {
     "cell_type": "code",
     "collapsed": false,
     "input": [
      "len(multimatch)"
     ],
     "language": "python",
     "metadata": {},
     "outputs": [
      {
       "metadata": {},
       "output_type": "pyout",
       "prompt_number": 137,
       "text": [
        "0"
       ]
      }
     ],
     "prompt_number": 137
    },
    {
     "cell_type": "code",
     "collapsed": false,
     "input": [],
     "language": "python",
     "metadata": {},
     "outputs": []
    }
   ],
   "metadata": {}
  }
 ]
}