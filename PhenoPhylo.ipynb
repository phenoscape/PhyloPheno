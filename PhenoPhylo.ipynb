{
 "metadata": {
  "name": "",
  "signature": "sha256:c261ff00dfa7a6b45054aa805a43157d0ffea78a00fd98a062a9779fddd0caa9"
 },
 "nbformat": 3,
 "nbformat_minor": 0,
 "worksheets": [
  {
   "cells": [
    {
     "cell_type": "code",
     "collapsed": false,
     "input": [
      "import json\n",
      "from peyotl.api import APIWrapper"
     ],
     "language": "python",
     "metadata": {},
     "outputs": [],
     "prompt_number": 72
    },
    {
     "cell_type": "code",
     "collapsed": false,
     "input": [
      "wrap = APIWrapper()\n",
      "tm = wrap.taxomachine\n",
      "## get the uid of a single taxon"
     ],
     "language": "python",
     "metadata": {},
     "outputs": [],
     "prompt_number": 83
    },
    {
     "cell_type": "code",
     "collapsed": false,
     "input": [
      "output_stub = \"test\"\n",
      "infile = \"vto_siluriformes.txt\"\n",
      "#input all taxa in a file consisting of vto_name \\t vto_id \\t ncbi_id \\t OT_name \\t Ot_ID\n",
      "#this file is output by pasan's script https://github.com/phenoscape/PhyloPheno/blob/master/vtolistgenerator.py"
     ],
     "language": "python",
     "metadata": {},
     "outputs": [],
     "prompt_number": 84
    },
    {
     "cell_type": "code",
     "collapsed": false,
     "input": [
      "ofi = open('{}_VTO_mapping.txt'.format(output_stub),'w') #Output the map fro VTO to ott_id\n",
      "\n",
      "ofi.write(\"{},{},{}\\n\".format('VTO','taxname','ottid'))\n",
      "ofi.write(\"\")\n",
      "\n",
      "VTO_mapping = {}\n",
      "taxname2VTO={}\n",
      "VTO2taxname={}\n",
      "\n",
      "infi=open(infile)\n",
      "for lin in infi:\n",
      "    lii=lin.strip().split(\"\\t\")\n",
      "    taxname2VTO[lii[0]]=lii[1]\n",
      "    VTO2taxname[lii[1]]=lii[0]\n",
      "    if lii[4]!='NA':\n",
      "        VTO_mapping[lii[1]]={'taxonname':lii[0],'ottid':lii[4]}\n",
      "        ofi.write(\"{},{},{}\\n\".format(lii[1],lii[0],lii[4]))\n",
      "    "
     ],
     "language": "python",
     "metadata": {},
     "outputs": [],
     "prompt_number": 85
    },
    {
     "cell_type": "code",
     "collapsed": false,
     "input": [
      "unmatched = {}\n",
      "multimatch = {}\n",
      "unmofi = open('{}_VTO_unmatched.txt'.format(output_stub),'w')\n",
      "for taxname in taxname2VTO.keys():\n",
      "    VTO = taxname2VTO[taxname]\n",
      "    if VTO not in VTO_mapping:\n",
      "        tnrs = tm.TNRS(taxname, \"Vertebrates\")\n",
      "        if len(tnrs[u'results']) == 0:\n",
      "            unmatched[VTO] = taxname\n",
      "            unmofi.write(\"{},{}\\n\".format(VTO, taxname))\n",
      "        if len(tnrs[u'results']) == 1:\n",
      "            ott_id = tnrs[u'results'][0][u'matches'][0][u'taxon'][u'ott_id']\n",
      "            VTO_mapping[VTO] = {'taxonname':taxname,'ottid':ott_id}\n",
      "            ofi.write(\"{},{},{}\\n\".format(VTO,taxname,ott_id))\n",
      "        if len(tnrs[u'results']) > 1:\n",
      "            multimatch[VTO] = tnrs"
     ],
     "language": "python",
     "metadata": {},
     "outputs": [],
     "prompt_number": 86
    },
    {
     "cell_type": "code",
     "collapsed": false,
     "input": [
      "ofi = open(\"{}_map.json\".format(output_stub),\"w\")\n",
      "json.dump(VTO_mapping, ofi)\n",
      "ofi.close()"
     ],
     "language": "python",
     "metadata": {},
     "outputs": [],
     "prompt_number": 87
    },
    {
     "cell_type": "code",
     "collapsed": false,
     "input": [
      "ofi = open(\"{}_unmatched.json\".format(output_stub),\"w\")\n",
      "json.dump(unmatched, ofi)\n",
      "ofi.close()"
     ],
     "language": "python",
     "metadata": {},
     "outputs": [],
     "prompt_number": 88
    },
    {
     "cell_type": "code",
     "collapsed": false,
     "input": [
      "new_matches = []\n",
      "for VTO in unmatched.keys():\n",
      "    taxname = unmatched[VTO]\n",
      "    if VTO not in VTO_mapping:\n",
      "        tnrs = tm.TNRS(taxname,\"Vertebrates\",fuzzy_matching=True)\n",
      "        if len(tnrs[u'results']) == 1:\n",
      "            ott_id = tnrs[u'results'][0][u'matches'][0][u'taxon'][u'ott_id']\n",
      "            VTO_mapping[VTO] = {'taxonname':taxname,'ottid':ott_id}\n",
      "            new_matches.append((VTO,taxonname))\n",
      "        if len(tnrs[u'results']) > 1:\n",
      "            multimatch[VTO] = tnrs\n",
      "            new_matches.append[VTO]\n",
      "            \n",
      "for VTO in new_matches:\n",
      "    del unmatched[VTO]"
     ],
     "language": "python",
     "metadata": {},
     "outputs": [],
     "prompt_number": 90
    },
    {
     "cell_type": "code",
     "collapsed": false,
     "input": [
      "new_matches #matched only by fuzzy matching"
     ],
     "language": "python",
     "metadata": {},
     "outputs": [
      {
       "metadata": {},
       "output_type": "pyout",
       "prompt_number": 91,
       "text": [
        "[]"
       ]
      }
     ],
     "prompt_number": 91
    },
    {
     "cell_type": "code",
     "collapsed": false,
     "input": [
      "len(unmatched)"
     ],
     "language": "python",
     "metadata": {},
     "outputs": [
      {
       "metadata": {},
       "output_type": "pyout",
       "prompt_number": 133,
       "text": [
        "320"
       ]
      }
     ],
     "prompt_number": 133
    },
    {
     "cell_type": "code",
     "collapsed": false,
     "input": [
      "len(VTO_mapping)"
     ],
     "language": "python",
     "metadata": {},
     "outputs": [
      {
       "metadata": {},
       "output_type": "pyout",
       "prompt_number": 134,
       "text": [
        "4024"
       ]
      }
     ],
     "prompt_number": 134
    },
    {
     "cell_type": "code",
     "collapsed": false,
     "input": [
      "len(multimatch)"
     ],
     "language": "python",
     "metadata": {},
     "outputs": [
      {
       "metadata": {},
       "output_type": "pyout",
       "prompt_number": 137,
       "text": [
        "0"
       ]
      }
     ],
     "prompt_number": 137
    },
    {
     "cell_type": "code",
     "collapsed": false,
     "input": [],
     "language": "python",
     "metadata": {},
     "outputs": []
    }
   ],
   "metadata": {}
  }
 ]
}