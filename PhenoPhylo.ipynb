{
 "metadata": {
  "name": "",
  "signature": "sha256:d0b606470098c7e3996095083a7e28a9a49a8b6584899b8b526a55ee4f6a80aa"
 },
 "nbformat": 3,
 "nbformat_minor": 0,
 "worksheets": [
  {
   "cells": [
    {
     "cell_type": "code",
     "collapsed": false,
     "input": [
      "import json\n",
      "from peyotl.api import APIWrapper"
     ],
     "language": "python",
     "metadata": {},
     "outputs": [
      {
       "output_type": "stream",
       "stream": "stderr",
       "text": [
        "/home/ejmctavish/Desktop/PhenoscapeHack/phenophylo/venv-phenophylo/lib/python2.7/site-packages/requests-2.18.4-py2.7.egg/requests/__init__.py:80: RequestsDependencyWarning: urllib3 (1.22) or chardet (2.3.0) doesn't match a supported version!\n",
        "  RequestsDependencyWarning)\n"
       ]
      }
     ],
     "prompt_number": 1
    },
    {
     "cell_type": "code",
     "collapsed": false,
     "input": [
      "wrap = APIWrapper()\n",
      "tm = wrap.taxomachine\n",
      "## get the uid of a single taxon"
     ],
     "language": "python",
     "metadata": {},
     "outputs": [],
     "prompt_number": 2
    },
    {
     "cell_type": "code",
     "collapsed": false,
     "input": [
      "output_stub = \"test\"\n",
      "infile = \"vto_siluriformes.txt\"\n",
      "#input all taxa in a file consisting of vto_name \\t vto_id \\t ncbi_id \\t OT_name \\t Ot_ID\n",
      "#this file is output by pasan's script https://github.com/phenoscape/PhyloPheno/blob/master/vtolistgenerator.py"
     ],
     "language": "python",
     "metadata": {},
     "outputs": [],
     "prompt_number": 3
    },
    {
     "cell_type": "code",
     "collapsed": false,
     "input": [
      "ofi = open('{}_VTO_mapping.txt'.format(output_stub),'w') #Output the map fro VTO to ott_id\n",
      "\n",
      "ofi.write(\"{},{},{}\\n\".format('VTO','taxname','ottid'))\n",
      "ofi.write(\"\")\n",
      "\n",
      "VTO_mapping = {}\n",
      "taxname2VTO={}\n",
      "VTO2taxname={}\n",
      "\n",
      "infi=open(infile)\n",
      "for lin in infi:\n",
      "    lii=lin.strip().split(\"\\t\")\n",
      "    taxname2VTO[lii[0]]=lii[1]\n",
      "    VTO2taxname[lii[1]]=lii[0]\n",
      "    if lii[4]!='NA':\n",
      "        VTO_mapping[lii[1]]={'taxonname':lii[0],'ottid':lii[4]}\n",
      "        ofi.write(\"{},{},{}\\n\".format(lii[1],lii[0],lii[4]))\n",
      "    "
     ],
     "language": "python",
     "metadata": {},
     "outputs": [],
     "prompt_number": 4
    },
    {
     "cell_type": "code",
     "collapsed": false,
     "input": [
      "unmatched = {}\n",
      "multimatch = {}\n",
      "unmofi = open('{}_VTO_unmatched.txt'.format(output_stub),'w')\n",
      "for taxname in taxname2VTO.keys():\n",
      "    VTO = taxname2VTO[taxname]\n",
      "    if VTO not in VTO_mapping:\n",
      "        tnrs = tm.TNRS(taxname, \"Vertebrates\")\n",
      "        if len(tnrs[u'results']) == 0:\n",
      "            unmatched[VTO] = taxname\n",
      "            unmofi.write(\"{},{}\\n\".format(VTO, taxname))\n",
      "        if len(tnrs[u'results']) == 1:\n",
      "            ott_id = tnrs[u'results'][0][u'matches'][0][u'taxon'][u'ott_id']\n",
      "            VTO_mapping[VTO] = {'taxonname':taxname,'ottid':ott_id}\n",
      "            ofi.write(\"{},{},{}\\n\".format(VTO,taxname,ott_id))\n",
      "        if len(tnrs[u'results']) > 1:\n",
      "            multimatch[VTO] = tnrs"
     ],
     "language": "python",
     "metadata": {},
     "outputs": []
    },
    {
     "cell_type": "code",
     "collapsed": false,
     "input": [
      "ofi = open(\"{}_map.json\".format(output_stub),\"w\")\n",
      "json.dump(VTO_mapping, ofi)\n",
      "ofi.close()"
     ],
     "language": "python",
     "metadata": {},
     "outputs": []
    },
    {
     "cell_type": "code",
     "collapsed": false,
     "input": [
      "ofi = open(\"{}_unmatched.json\".format(output_stub),\"w\")\n",
      "json.dump(unmatched, ofi)\n",
      "ofi.close()"
     ],
     "language": "python",
     "metadata": {},
     "outputs": []
    },
    {
     "cell_type": "code",
     "collapsed": false,
     "input": [
      "new_matches = []\n",
      "for VTO in unmatched.keys():\n",
      "    taxname = unmatched[VTO]\n",
      "    if VTO not in VTO_mapping:\n",
      "        tnrs = tm.TNRS(taxname,\"Vertebrates\",fuzzy_matching=True)\n",
      "        if len(tnrs[u'results']) == 1:\n",
      "            ott_id = tnrs[u'results'][0][u'matches'][0][u'taxon'][u'ott_id']\n",
      "            VTO_mapping[VTO] = {'taxonname':taxname,'ottid':ott_id}\n",
      "            new_matches.append((VTO,taxonname))\n",
      "        if len(tnrs[u'results']) > 1:\n",
      "            multimatch[VTO] = tnrs\n",
      "            new_matches.append[VTO]\n",
      "            \n",
      "for VTO in new_matches:\n",
      "    del unmatched[VTO]"
     ],
     "language": "python",
     "metadata": {},
     "outputs": []
    },
    {
     "cell_type": "code",
     "collapsed": false,
     "input": [
      "new_matches #matched only by fuzzy matching"
     ],
     "language": "python",
     "metadata": {},
     "outputs": []
    },
    {
     "cell_type": "code",
     "collapsed": false,
     "input": [
      "len(unmatched)"
     ],
     "language": "python",
     "metadata": {},
     "outputs": []
    },
    {
     "cell_type": "code",
     "collapsed": false,
     "input": [
      "len(VTO_mapping)"
     ],
     "language": "python",
     "metadata": {},
     "outputs": []
    },
    {
     "cell_type": "code",
     "collapsed": false,
     "input": [
      "len(multimatch)"
     ],
     "language": "python",
     "metadata": {},
     "outputs": []
    },
    {
     "cell_type": "code",
     "collapsed": false,
     "input": [
      "map_file = open(\"alltaxa_VTO_mapping.txt\")\n",
      "map_dict = {}\n",
      "ott_names = {}\n",
      "for lin in map_file:\n",
      "    VTO,taxname,ottid = lin.split(\",\")\n",
      "    map_dict[VTO] = ottid.strip()\n",
      "    ott_names[ottid.strip()] = ''\n"
     ],
     "language": "python",
     "metadata": {},
     "outputs": [],
     "prompt_number": 15
    },
    {
     "cell_type": "code",
     "collapsed": false,
     "input": [
      "tax = open(\"taxonomy.tsv\")\n",
      "for lin in tax:\n",
      "    lii = lin.split('|')\n",
      "    if lii[0].strip() in ott_names:\n",
      "        ott_names[lii[0].strip()] = lii[2].strip()\n",
      "        "
     ],
     "language": "python",
     "metadata": {},
     "outputs": [],
     "prompt_number": 19
    },
    {
     "cell_type": "code",
     "collapsed": false,
     "input": [
      "#merging NCBI mapped ids with TNRS mapped ids\n",
      "infile = \"vtoalltaxa.txt\"\n",
      "ofi = open('VTO_to_OTT.csv','w') #Output the map fro VTO to ott_id\n",
      "ofi.write(\"{}\\t{}\\t{}\\t{}\\t{}\\n\".format('vto_name','vto_id','ncbi_id','OT_Name','Ott_ID'))\n",
      "\n",
      "infi=open(infile)\n",
      "infi.readline()\n",
      "\n",
      "for lin in infi:\n",
      "    lii=lin.strip().split(\"\\t\")\n",
      "    if lii[4]!='NA':\n",
      "        ofi.write(lin)\n",
      "    else:\n",
      "        ott_id = map_dict.get(lii[1],'NA')\n",
      "        name = ott_names.get(ott_id, 'NA')\n",
      "        ofi.write(\"{}\\t{}\\t{}\\t{}\\t{}\\n\".format(lii[0],lii[1],lii[2],name,ott_id))\n",
      "\n",
      "\n",
      "ofi.close()\n",
      "    "
     ],
     "language": "python",
     "metadata": {},
     "outputs": [],
     "prompt_number": 35
    },
    {
     "cell_type": "code",
     "collapsed": true,
     "input": [
      "lii[1]"
     ],
     "language": "python",
     "metadata": {},
     "outputs": [
      {
       "metadata": {},
       "output_type": "pyout",
       "prompt_number": 28,
       "text": [
        "'VTO_9003846'"
       ]
      }
     ],
     "prompt_number": 28
    },
    {
     "cell_type": "code",
     "collapsed": false,
     "input": [
      "map_dict.keys()[0]"
     ],
     "language": "python",
     "metadata": {},
     "outputs": [
      {
       "metadata": {},
       "output_type": "pyout",
       "prompt_number": 29,
       "text": [
        "'VTO_9027741'"
       ]
      }
     ],
     "prompt_number": 29
    },
    {
     "cell_type": "code",
     "collapsed": false,
     "input": [
      "ottid"
     ],
     "language": "python",
     "metadata": {},
     "outputs": [
      {
       "metadata": {},
       "output_type": "pyout",
       "prompt_number": 4,
       "text": [
        "'630594\\n'"
       ]
      }
     ],
     "prompt_number": 4
    },
    {
     "cell_type": "code",
     "collapsed": false,
     "input": [
      "infi = open('VTO_to_OTT.csv','r') #Output the map fro VTO to ott_id\n",
      "\n",
      "count_mapped = 0\n",
      "count_unmapped = 0\n",
      "for lin in infi:\n",
      "    lii=lin.strip().split(\"\\t\")\n",
      "    if lii[4]!='NA':\n",
      "        count_mapped += 1\n",
      "    else:\n",
      "        count_unmapped += 1  "
     ],
     "language": "python",
     "metadata": {},
     "outputs": [],
     "prompt_number": 36
    },
    {
     "cell_type": "code",
     "collapsed": false,
     "input": [
      "count_mapped"
     ],
     "language": "python",
     "metadata": {},
     "outputs": [
      {
       "metadata": {},
       "output_type": "pyout",
       "prompt_number": 40,
       "text": [
        "97775"
       ]
      }
     ],
     "prompt_number": 40
    },
    {
     "cell_type": "code",
     "collapsed": false,
     "input": [
      "count_unmapped"
     ],
     "language": "python",
     "metadata": {},
     "outputs": [
      {
       "metadata": {},
       "output_type": "pyout",
       "prompt_number": 41,
       "text": [
        "9109"
       ]
      }
     ],
     "prompt_number": 41
    },
    {
     "cell_type": "code",
     "collapsed": false,
     "input": [],
     "language": "python",
     "metadata": {},
     "outputs": []
    }
   ],
   "metadata": {}
  }
 ]
}